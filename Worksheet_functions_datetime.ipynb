{
  "nbformat": 4,
  "nbformat_minor": 0,
  "metadata": {
    "colab": {
      "name": "Worksheet-functions-datetime.ipynb",
      "provenance": [],
      "collapsed_sections": [],
      "include_colab_link": true
    },
    "kernelspec": {
      "name": "python3",
      "display_name": "Python 3"
    },
    "language_info": {
      "name": "python"
    }
  },
  "cells": [
    {
      "cell_type": "markdown",
      "metadata": {
        "id": "view-in-github",
        "colab_type": "text"
      },
      "source": [
        "<a href=\"https://colab.research.google.com/github/sysphcd/pythonfundamentals/blob/main/Worksheet_functions_datetime.ipynb\" target=\"_parent\"><img src=\"https://colab.research.google.com/assets/colab-badge.svg\" alt=\"Open In Colab\"/></a>"
      ]
    },
    {
      "cell_type": "markdown",
      "metadata": {
        "id": "7iQyKP-SQiw1"
      },
      "source": [
        "# User-defined functions using datetime library\n",
        "\n",
        "---\n"
      ]
    },
    {
      "cell_type": "markdown",
      "metadata": {
        "id": "Vi93h5I4QnKs"
      },
      "source": [
        "When working with dates and times, fairly common in data sets, we need to be able to extract certain bits of information.  \n",
        "\n",
        "In Python, as with other languages, dates and times are stored in a data structure that combines the two together and stores the information as a number of seconds since a start point (often 1st January 1900).  This is obviously a large number but every bit of information about a date can be extracted from it and used to give a wide range of information.  \n",
        "\n",
        "Have a go at the exercises below to use a selection of datetime functions and return a new bit of data from each, to be printed by the caller.\n",
        "\n",
        "Before you can use datetime functions you will need to import them. Import the datetime functions like this:\n",
        "\n",
        "`from datetime import datetime`  \n",
        "\n",
        "\n",
        "For more information about datetime functions visit [w3Schools-Python datetime](https://www.w3schools.com/python/python_datetime.asp) and [Python docs](https://docs.python.org/3/library/datetime.html)"
      ]
    },
    {
      "cell_type": "markdown",
      "metadata": {
        "id": "MIDLi7CNR034"
      },
      "source": [
        "---\n",
        "### Exercise 1 - print current date and time\n",
        "\n",
        "Write a function that will return the date and time now.  The caller will print it.  \n",
        "\n",
        "*Hint:  the format has been added for you, the other exercises will follow a similar format.   Always remember to import datetime from datetime as shown below*"
      ]
    },
    {
      "cell_type": "code",
      "metadata": {
        "id": "gS6GJdXbQfHp",
        "colab": {
          "base_uri": "https://localhost:8080/"
        },
        "outputId": "c07c2e3f-5a8f-46fd-fb90-9077ebbd1f49"
      },
      "source": [
        "from datetime import datetime, timezone\n",
        "# add your function, called get_datetime_now() below here\n",
        "def get_datetime_now():\n",
        "  return datetime.now()\n",
        "\n",
        "now_date_time = get_datetime_now()\n",
        "print(now_date_time)"
      ],
      "execution_count": 4,
      "outputs": [
        {
          "output_type": "stream",
          "name": "stdout",
          "text": [
            "2022-01-19 14:24:01.317481\n"
          ]
        }
      ]
    },
    {
      "cell_type": "markdown",
      "metadata": {
        "id": "Yy24sL0bUtpF"
      },
      "source": [
        "---\n",
        "Exercise 2 - print the current year\n",
        "\n",
        "Write a function that will return the current year.  The caller will print the year."
      ]
    },
    {
      "cell_type": "code",
      "metadata": {
        "id": "YqlQqPIqUtyr",
        "colab": {
          "base_uri": "https://localhost:8080/"
        },
        "outputId": "f4e9d9e9-6cc4-4128-e987-d566dcf91a04"
      },
      "source": [
        "from datetime import datetime\n",
        "# add your function, called get_datetime_year() below here\n",
        "def get_datetime_year():\n",
        "  x = datetime.now()\n",
        "  return x.year\n",
        "\n",
        "\n",
        "now_year = get_datetime_year()\n",
        "print(now_year)"
      ],
      "execution_count": 10,
      "outputs": [
        {
          "output_type": "stream",
          "name": "stdout",
          "text": [
            "2022\n"
          ]
        }
      ]
    },
    {
      "cell_type": "markdown",
      "metadata": {
        "id": "FzSVCaJKV1O1"
      },
      "source": [
        "---\n",
        "### Exercise 3 - print the current day of the week\n",
        "\n",
        "Write a function that will return the current day of the week.  The caller will print it."
      ]
    },
    {
      "cell_type": "code",
      "metadata": {
        "id": "OP4ZIXBWV1Yj",
        "colab": {
          "base_uri": "https://localhost:8080/"
        },
        "outputId": "12575b0c-6a60-45f4-bb13-e086aa86e824"
      },
      "source": [
        "from datetime import datetime\n",
        "# add your function, called get_datetime_year() below here\n",
        "def get_datetime_dayofweek():\n",
        "  x = datetime.now()\n",
        "  \n",
        "  return x.strftime(\"%A\")\n",
        "\n",
        "\n",
        "now_dayofweek = get_datetime_dayofweek()\n",
        "print(now_dayofweek)"
      ],
      "execution_count": 15,
      "outputs": [
        {
          "output_type": "stream",
          "name": "stdout",
          "text": [
            "Wednesday\n"
          ]
        }
      ]
    },
    {
      "cell_type": "markdown",
      "metadata": {
        "id": "a8euCtdmWIDE"
      },
      "source": [
        "---\n",
        "### Exercise 4 - create a new date\n",
        "\n",
        "Write a function that will take 3 parameters, day, month, year (3 numbers that make a valid date) and will create, and return a new date.  The caller will print the date."
      ]
    },
    {
      "cell_type": "code",
      "metadata": {
        "id": "FbOFnTwnWILN",
        "colab": {
          "base_uri": "https://localhost:8080/",
          "height": 35
        },
        "outputId": "5415467a-114c-4310-9d2c-12e7f2beaa4b"
      },
      "source": [
        "from datetime import datetime\n",
        "def create_newdate(day,month,year):\n",
        "  newdate = str(day)+\"/\"+str(month)+\"/\"+str(year)\n",
        "  return newdate \n",
        "day=35\n",
        "month=15\n",
        "year=5893\n",
        "create_newdate(day,month,year)"
      ],
      "execution_count": 19,
      "outputs": [
        {
          "output_type": "execute_result",
          "data": {
            "application/vnd.google.colaboratory.intrinsic+json": {
              "type": "string"
            },
            "text/plain": [
              "'35/15/5893'"
            ]
          },
          "metadata": {},
          "execution_count": 19
        }
      ]
    },
    {
      "cell_type": "markdown",
      "metadata": {
        "id": "f5SKVuE0WfcE"
      },
      "source": [
        "---\n",
        "### Exercise 5 - create a valid date\n",
        "\n",
        "Write a function that will take 3 parameters, day, month, year (3 numbers) and will:  \n",
        "*   check that the month is between 1 and 12  \n",
        "*   check that the day is valid for the month (e.g. if the month is 2, then the day must be between 1 and 28 (don't worry about leap years for the moment)  \n",
        "*   if the date is not valid, print an error message and return None (which the caller will print)  \n",
        "*   if the date is valid, store it in a new variable, return the variable and the caller will print it."
      ]
    },
    {
      "cell_type": "code",
      "metadata": {
        "id": "gclt-f9-XfdG",
        "colab": {
          "base_uri": "https://localhost:8080/"
        },
        "outputId": "f72462a8-de84-4858-ae2a-bb7646464a5e"
      },
      "source": [
        "from datetime import datetime\n",
        "def create_validdate(day,month,year):\n",
        "  valid = False\n",
        "  \n",
        "  if month >=1 or month<=12 :\n",
        "    valid = True\n",
        "    #print(\"month in\")\n",
        "  else :\n",
        "    valid = False\n",
        "\n",
        "  if day >=1 or day<=31 :\n",
        "    valid = True\n",
        "    #print(\"day in\")\n",
        "    if month==2 and day >=1 and day <=28:\n",
        "      valid = True\n",
        "      #print(\"feb in\")\n",
        "    elif month ==2 and day>=1 and day>=28:\n",
        "      valid = False\n",
        "  else :\n",
        "    valid = False\n",
        "    #print(\"wrong2\")\n",
        "\n",
        "  if valid == True :\n",
        "    return str(day)+\"/\"+str(month)+\"/\"+str(year)\n",
        "  else :\n",
        "    \n",
        "    print(str(day)+\"/\"+str(month)+\"/\"+str(year),\"Invalid date\")\n",
        "    return\n",
        "  \n",
        "print(create_validdate(31,2,2022))\n",
        "print(create_validdate(16,5,2022))\n",
        "print(create_validdate(19,1,2022))"
      ],
      "execution_count": 37,
      "outputs": [
        {
          "output_type": "stream",
          "name": "stdout",
          "text": [
            "31/2/2022 Invalid date\n",
            "None\n",
            "16/5/2022\n",
            "19/1/2022\n"
          ]
        }
      ]
    },
    {
      "cell_type": "markdown",
      "metadata": {
        "id": "js7fy2HWXfm2"
      },
      "source": [
        "---\n",
        "### Exercise 6 - is it a leap year?\n",
        "\n",
        "Write a function that will take a date as a parameter (you will need to create the date variable before calling the function) and will determine if it is a leap year, returning True or False.\n",
        "\n",
        "*Hint:  a leap year is a year that is divisible by 4 but the centuries (1900, 2000, etc are only leap years if they are divisible by 400)*"
      ]
    },
    {
      "cell_type": "code",
      "metadata": {
        "id": "KY1jtf3lX_ps",
        "colab": {
          "base_uri": "https://localhost:8080/"
        },
        "outputId": "a9721fe9-ac2a-4dec-f74d-713e84355bea"
      },
      "source": [
        "from datetime import datetime\n",
        "def is_leap_year(date_to_check):\n",
        "  # add your code below here\n",
        "  isleap= False\n",
        "  checkyear = date_to_check.year #datetime.now().year\n",
        "  if checkyear%4==0:\n",
        "    isleap = True\n",
        "  else: \n",
        "    isleap = False\n",
        "  return isleap\n",
        "\n",
        "check_date = datetime(1996, 12, 15)\n",
        "if is_leap_year(check_date):\n",
        "  print(check_date.strftime(\"%Y\"), \"is a leap year\")\n",
        "else:\n",
        "  print(check_date.strftime(\"%Y\"), \"is not a leap year\")"
      ],
      "execution_count": 46,
      "outputs": [
        {
          "output_type": "stream",
          "name": "stdout",
          "text": [
            "1996 is a leap year\n"
          ]
        }
      ]
    },
    {
      "cell_type": "markdown",
      "metadata": {
        "id": "9BuRDi08YAO0"
      },
      "source": [
        "---\n",
        "### Exercise 7 - display parts of date/time\n",
        "\n",
        "Write a function that will take a date and print from it the following:  \n",
        "*  given date and time  \n",
        "*  year (in full) \n",
        "*  month (as a number) \n",
        "*  month name \n",
        "*  week number of the year  \n",
        "*  weekday of the week (as a number)  \n",
        "*  day of year  \n",
        "*  day of the month  \n",
        "*  day of week (as a name)  \n",
        "\n",
        "*Hint:  see w3Schools for [strftime reference](https://www.w3schools.com/python/python_datetime.asp)*\n",
        "\n"
      ]
    },
    {
      "cell_type": "code",
      "metadata": {
        "id": "zl-37Ez9ahym",
        "colab": {
          "base_uri": "https://localhost:8080/"
        },
        "outputId": "8eaab28c-74a4-430f-8e61-e09865c44563"
      },
      "source": [
        "from datetime import datetime\n",
        "def display_partsDateTime(current_datetime):\n",
        "  print(\"given date and time :\",current_datetime.strftime(\"%c\"))\n",
        "  print(\"year (in full)\",current_datetime.strftime(\"%Y\"))\n",
        "  print(\"month (as a number)\",current_datetime.strftime(\"%m\"))\n",
        "  print(\"month name\",current_datetime.strftime(\"%B\"))\n",
        "  print(\"week number of the year\",current_datetime.strftime(\"%W\"))\n",
        "  print(\"weekday of the week (as a number)\",current_datetime.strftime(\"%w\"))\n",
        "  print(\"day of year\",current_datetime.strftime(\"%j\"))\n",
        "  print(\"day of the month:\",current_datetime.strftime(\"%d\"))\n",
        "  print(\"day of week (as a name) :\",current_datetime.strftime(\"%A\"))\n",
        "current_datetime = datetime.now()  \n",
        "display_partsDateTime(current_datetime)"
      ],
      "execution_count": 53,
      "outputs": [
        {
          "output_type": "stream",
          "name": "stdout",
          "text": [
            "given date and time : Wed Jan 19 15:50:30 2022\n",
            "year (in full) 2022\n",
            "month (as a number) 01\n",
            "month name January\n",
            "week number of the year 03\n",
            "weekday of the week (as a number) 3\n",
            "day of year 019\n",
            "day of the month: 19\n",
            "day of week (as a name) : Wednesday\n"
          ]
        }
      ]
    },
    {
      "cell_type": "markdown",
      "metadata": {
        "id": "_rpTIoSDaiBj"
      },
      "source": [
        "---\n",
        "### Exercise 8 - next 6 days\n",
        "\n",
        "Write a function that will take a date and generate the dates of the following 6 days.  It should print each of the 6 days in the form:  \n",
        "\n",
        "DAY OF THE WEEK, MONTH NAME, FULL YEAR\n",
        "\n",
        "Hint:  to generate the days, use the function datetime.timedelta(), there is a good example of its use [here](https://www.geeksforgeeks.org/python-datetime-timedelta-function/)  "
      ]
    },
    {
      "cell_type": "code",
      "metadata": {
        "id": "1d-oXqLLb0vX",
        "colab": {
          "base_uri": "https://localhost:8080/"
        },
        "outputId": "d01966f6-f4b2-40cb-b4a5-2b5c7ad48b2e"
      },
      "source": [
        "from datetime import datetime, timedelta\n",
        "def get_nextsixdays(current_datetime):\n",
        "  print(\"DAY OF THE WEEK,MONTH NAME,FULL YEAR\")\n",
        "\n",
        "  for i in range(1,7):\n",
        "    future_date_after_idays = current_datetime + timedelta(days=i) \n",
        "    print(future_date_after_idays.strftime(\"%A\"),\"         \", future_date_after_idays.strftime(\"%d\"),\"         \", future_date_after_idays.strftime(\"%B\"), future_date_after_idays.strftime(\"%Y\") )                     \n",
        "    #print(current_datetime.strftime(\"%A\"), current_datetime.strftime(\"%B\"), current_datetime.strftime(\"%Y\"))\n",
        "\n",
        "current_datetime = datetime.now()  \n",
        "get_nextsixdays(current_datetime)"
      ],
      "execution_count": 66,
      "outputs": [
        {
          "output_type": "stream",
          "name": "stdout",
          "text": [
            "DAY OF THE WEEK,MONTH NAME,FULL YEAR\n",
            "Thursday           20           January 2022\n",
            "Friday           21           January 2022\n",
            "Saturday           22           January 2022\n",
            "Sunday           23           January 2022\n",
            "Monday           24           January 2022\n",
            "Tuesday           25           January 2022\n"
          ]
        }
      ]
    },
    {
      "cell_type": "markdown",
      "metadata": {
        "id": "22Rhwx2Sb1Ey"
      },
      "source": [
        "---\n",
        "### Optional extra practice\n",
        "\n",
        "There are some similar and some more challenging exercises [here](https://www.w3resource.com/python-exercises/date-time-exercise/) if you would like to practice more. The site has its own editor."
      ]
    }
  ]
}