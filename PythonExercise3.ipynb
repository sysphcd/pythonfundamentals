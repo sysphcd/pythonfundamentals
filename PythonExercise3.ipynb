{
  "nbformat": 4,
  "nbformat_minor": 0,
  "metadata": {
    "colab": {
      "name": "PythonExercise3.ipynb",
      "provenance": [],
      "include_colab_link": true
    },
    "kernelspec": {
      "name": "python3",
      "display_name": "Python 3"
    },
    "language_info": {
      "name": "python"
    }
  },
  "cells": [
    {
      "cell_type": "markdown",
      "metadata": {
        "id": "view-in-github",
        "colab_type": "text"
      },
      "source": [
        "<a href=\"https://colab.research.google.com/github/sysphcd/pythonfundamentals/blob/main/PythonExercise3.ipynb\" target=\"_parent\"><img src=\"https://colab.research.google.com/assets/colab-badge.svg\" alt=\"Open In Colab\"/></a>"
      ]
    },
    {
      "cell_type": "markdown",
      "source": [
        "1A. Write a Python program to sum all the items in a list."
      ],
      "metadata": {
        "id": "06HPv0TNKzcW"
      }
    },
    {
      "cell_type": "code",
      "execution_count": null,
      "metadata": {
        "id": "sHKUtK2dKukc",
        "colab": {
          "base_uri": "https://localhost:8080/"
        },
        "outputId": "d47e04a5-55f6-46f3-bcab-0bf8e98a1a60"
      },
      "outputs": [
        {
          "output_type": "stream",
          "name": "stdout",
          "text": [
            "total 47\n"
          ]
        }
      ],
      "source": [
        "def sum_list_items(items):\n",
        "  total = 0\n",
        "  for i in items:\n",
        "    total += i\n",
        "  print(\"total\", total)  \n",
        "items = [12, 11, 13, 5, 6]\n",
        "sum_list_items(items)"
      ]
    },
    {
      "cell_type": "markdown",
      "source": [
        "1B. Write a Python program to count the number of strings where the string length is 2 or more and the first and last character are same from a given list of strings."
      ],
      "metadata": {
        "id": "mnY0V50-K0iF"
      }
    },
    {
      "cell_type": "code",
      "source": [
        "def count_strings_number(strings):\n",
        "  counter= 0\n",
        "  for i in range(0,len(strings)):\n",
        "    string = strings[i]\n",
        "    \n",
        "    if len(string)>= 2 and string[0]==string[-1:]:\n",
        "      print(strings[i])\n",
        "      counter+=1\n",
        "  print(\"the number of strings :\",counter)\n",
        "      \n",
        "strings= [\"atesta\", \"E\", \"B\", \"T\",\"bjb\",\"Tokyo\",\"cc\"]\n",
        "count_strings_number(strings)"
      ],
      "metadata": {
        "id": "Q-N0EiDzK0p0",
        "colab": {
          "base_uri": "https://localhost:8080/"
        },
        "outputId": "367b42c1-165f-43a2-bdb4-9ecc192166ab"
      },
      "execution_count": 2,
      "outputs": [
        {
          "output_type": "stream",
          "name": "stdout",
          "text": [
            "atesta\n",
            "bjb\n",
            "cc\n",
            "the number of strings : 3\n"
          ]
        }
      ]
    },
    {
      "cell_type": "markdown",
      "source": [
        "1C. Write a Python program to get a list, sorted in increasing order by the last element in each tuple from a given list of non-empty tuples."
      ],
      "metadata": {
        "id": "NEataweqK0xV"
      }
    },
    {
      "cell_type": "code",
      "source": [
        "def last(n): return n[-1]\n",
        "\n",
        "def sort_list_last(tuples):\n",
        "  return sorted(tuples, key=last)\n",
        "\n",
        "print(sort_list_last([(2, 5), (1, 2), (4, 4), (2, 3), (2, 1)]))"
      ],
      "metadata": {
        "id": "CBw_nFtnK032",
        "colab": {
          "base_uri": "https://localhost:8080/"
        },
        "outputId": "3b9f651f-a0fd-45a0-e25e-075bde784b98"
      },
      "execution_count": 38,
      "outputs": [
        {
          "output_type": "stream",
          "name": "stdout",
          "text": [
            "[(2, 1), (1, 2), (2, 3), (4, 4), (2, 5)]\n"
          ]
        }
      ]
    },
    {
      "cell_type": "markdown",
      "source": [
        "2A. Write a Python program to remove duplicates from a list."
      ],
      "metadata": {
        "id": "gCcuirvhK0-t"
      }
    },
    {
      "cell_type": "code",
      "source": [
        "def remove_duplicates(thelists):\n",
        "  #covert thelists -> dictionary : keys -> covert to list\n",
        "  return list(dict.fromkeys(thelists))\n",
        "  \n",
        "thelists=[\"physics\", \"chemistry\", 1997, 2000, \"chemistry\", 2000]\n",
        "remove_duplicates(thelists)"
      ],
      "metadata": {
        "id": "Iqt5oNJwK1DV",
        "colab": {
          "base_uri": "https://localhost:8080/"
        },
        "outputId": "284e091e-249c-407b-c67c-85c8134fa2f8"
      },
      "execution_count": 5,
      "outputs": [
        {
          "output_type": "execute_result",
          "data": {
            "text/plain": [
              "['physics', 'chemistry', 1997, 2000]"
            ]
          },
          "metadata": {},
          "execution_count": 5
        }
      ]
    },
    {
      "cell_type": "markdown",
      "source": [
        "2B. Write a Python function that takes two lists and returns True if they have at least one common member."
      ],
      "metadata": {
        "id": "icLILXYUK1IF"
      }
    },
    {
      "cell_type": "code",
      "source": [
        "def has_common_member(list1, list2):\n",
        "  hascommon=False\n",
        "  for i in list1 :\n",
        "    for j in list2: \n",
        "      if i == j :\n",
        "        hascommon = True\n",
        "        return hascommon\n",
        "      else :\n",
        "        hascommon = False\n",
        "  return hascommon    \n",
        "list1=[\"Einburgh\", \"B\", \"T\",\"bjb\",\"Tokyo\",\"cc\"]\n",
        "list2=[\"Tokyo\",\"London\"]\n",
        "has_common_member(list1,list2)"
      ],
      "metadata": {
        "id": "HhDboPZIK1MZ",
        "colab": {
          "base_uri": "https://localhost:8080/"
        },
        "outputId": "5797e06a-a89e-4c07-c659-5685b73dadf2"
      },
      "execution_count": 9,
      "outputs": [
        {
          "output_type": "execute_result",
          "data": {
            "text/plain": [
              "True"
            ]
          },
          "metadata": {},
          "execution_count": 9
        }
      ]
    },
    {
      "cell_type": "markdown",
      "source": [
        "2C. Write a Python program to print the numbers of a specified list after removing even numbers from it."
      ],
      "metadata": {
        "id": "22atu-SmK1Rm"
      }
    },
    {
      "cell_type": "code",
      "source": [
        "def print_oddnumslist(thelists):\n",
        "  for i in thelists:\n",
        "    if i%2 == 0:\n",
        "      thelists.remove(i)\n",
        "  print(thelists)\n",
        "thelists=[2,3,4,5,6,7,8,9,10,11,12]\n",
        "print_oddnumslist(thelists)"
      ],
      "metadata": {
        "id": "8Xnu2OBvK1V-",
        "colab": {
          "base_uri": "https://localhost:8080/"
        },
        "outputId": "217f1f16-304c-4342-c0aa-f0cb9497ac26"
      },
      "execution_count": 10,
      "outputs": [
        {
          "output_type": "stream",
          "name": "stdout",
          "text": [
            "[3, 5, 7, 9, 11]\n"
          ]
        }
      ]
    },
    {
      "cell_type": "markdown",
      "source": [
        "3A. Write a Python program to generate and print a list of first and last 5 elements where the values are square of numbers between 1 and 30 (both included)."
      ],
      "metadata": {
        "id": "YoKsC5HWK1ae"
      }
    },
    {
      "cell_type": "code",
      "source": [
        "def generate_squarevalue(nums):\n",
        "  afterremove=[]\n",
        "  for x in nums:\n",
        "    if x*x >30 :\n",
        "      nums.remove(x)\n",
        "    else:\n",
        "      afterremove.append(x)\n",
        "  print(\"all nums:\",afterremove)\n",
        "  print(\"first 5: \",afterremove[0:5],\"last 5:\", afterremove[-5:])\n",
        "nums = [2,3,4,5,6,7,8,9,5,3,6,3,2,3,4,4,5,3]\n",
        "generate_squarevalue(nums)"
      ],
      "metadata": {
        "id": "l5rPnietK1e4",
        "colab": {
          "base_uri": "https://localhost:8080/"
        },
        "outputId": "c699bce9-c7a8-4942-ad20-3724170a7d3d"
      },
      "execution_count": 17,
      "outputs": [
        {
          "output_type": "stream",
          "name": "stdout",
          "text": [
            "all nums: [2, 3, 4, 5, 5, 3, 2, 3, 4, 4, 5, 3]\n",
            "first 5:  [2, 3, 4, 5, 5] last 5: [3, 4, 4, 5, 3]\n"
          ]
        }
      ]
    },
    {
      "cell_type": "markdown",
      "source": [
        "3B. Write a Python program to get the difference between the two lists."
      ],
      "metadata": {
        "id": "72sVaoAyK1jG"
      }
    },
    {
      "cell_type": "code",
      "source": [
        "def get_diffoflists(list1,list2):\n",
        "  list_difference = [item for item in list1 if item not in list2]\n",
        "  print(list_difference)\n",
        "list1 = [2,3,4,5,6,7,8,9,5,3,6,3,2,3,4,4,5,3]\n",
        "list2 = [2, 3, 4, 5, 5, 3, 2, 3, 4, 4, 5, 3]\n",
        "get_diffoflists(list1,list2)"
      ],
      "metadata": {
        "id": "RsqiGkbNK1oP",
        "colab": {
          "base_uri": "https://localhost:8080/"
        },
        "outputId": "fe4212b7-05e0-4851-fba6-095e13a858dc"
      },
      "execution_count": 18,
      "outputs": [
        {
          "output_type": "stream",
          "name": "stdout",
          "text": [
            "[6, 7, 8, 9, 6]\n"
          ]
        }
      ]
    },
    {
      "cell_type": "markdown",
      "source": [
        "3C. Write a Python program to convert a list of characters into a string."
      ],
      "metadata": {
        "id": "cwb0kd3sK1vt"
      }
    },
    {
      "cell_type": "code",
      "source": [
        "def convert_tostring(thelists):\n",
        "  string = \"\"\n",
        "  for x in thelists:\n",
        "    string += x\n",
        "  print(string)\n",
        "thelists = [\"p\",\"y\",\"t\",\"h\",\"o\",\"n\"]\n",
        "convert_tostring(thelists)"
      ],
      "metadata": {
        "id": "9oetbMLdK11N",
        "colab": {
          "base_uri": "https://localhost:8080/"
        },
        "outputId": "7ea4bd7b-e10d-4273-924d-cdc11eb14b2b"
      },
      "execution_count": 19,
      "outputs": [
        {
          "output_type": "stream",
          "name": "stdout",
          "text": [
            "python\n"
          ]
        }
      ]
    },
    {
      "cell_type": "markdown",
      "source": [
        "4A. Write a Python program to select an item randomly from a list."
      ],
      "metadata": {
        "id": "pRBFvYEJK17O"
      }
    },
    {
      "cell_type": "code",
      "source": [
        "#from random import randint\n",
        "from numpy import random\n",
        "def select_randomitem(thelist):\n",
        "  x = random.choice(thelist)\n",
        "  print(x)\n",
        "  #ran_int = randint(len(thelist))\n",
        "  #print(thelist[ran_int])\n",
        "thelist = [\"python\",\"swift\",\".net\",\"react\",\"java\"]\n",
        "select_randomitem(thelist)"
      ],
      "metadata": {
        "id": "Z3mdz8x5K1_s",
        "colab": {
          "base_uri": "https://localhost:8080/"
        },
        "outputId": "0a944a8c-9a71-4464-b865-d388d2937b4c"
      },
      "execution_count": 24,
      "outputs": [
        {
          "output_type": "stream",
          "name": "stdout",
          "text": [
            "swift\n"
          ]
        }
      ]
    },
    {
      "cell_type": "markdown",
      "source": [
        "4B.Write a Python program to find the second largest number in a list."
      ],
      "metadata": {
        "id": "KZdXkW5MPjot"
      }
    },
    {
      "cell_type": "code",
      "source": [
        "def find_secondlargenum(numslist):\n",
        "  for i in range(0,len(numslist)-1):\n",
        "    for j in range(len(numslist)-1) :\n",
        "      if numslist[j]>numslist[j+1]:\n",
        "        temp = numslist[j]\n",
        "        numslist[j] = numslist[j+1]\n",
        "        numslist[j+1] = temp\n",
        "  print(numslist)      \n",
        "  print(numslist[1])\n",
        "numslist = [34,23,78,39,19,46,52]\n",
        "find_secondlargenum(numslist)"
      ],
      "metadata": {
        "id": "4l3nkCRUK2KX",
        "colab": {
          "base_uri": "https://localhost:8080/"
        },
        "outputId": "9faeba94-1d54-4f9f-9391-d62126ddc9d1"
      },
      "execution_count": 26,
      "outputs": [
        {
          "output_type": "stream",
          "name": "stdout",
          "text": [
            "[19, 23, 34, 39, 46, 52, 78]\n",
            "23\n"
          ]
        }
      ]
    },
    {
      "cell_type": "markdown",
      "source": [
        "5A. Write a Python program to count the number of elements in a list within a specified range."
      ],
      "metadata": {
        "id": "gUKwS8kEPkM6"
      }
    },
    {
      "cell_type": "code",
      "source": [
        "def count_rangeinlist(thelist, begin, last):\n",
        "  counter = 0\n",
        "  for i in thelist :\n",
        "    if begin <= i <= last:\n",
        "      counter +=1\n",
        "  return counter\n",
        "\n",
        "list0 = [34,23,78,39,19,46,52,67,36,62,18,29]\n",
        "print(count_rangeinlist(list0, 30, 80))\n",
        "list1 = [10,20,30,40,40,40,70,80,99]\n",
        "print(count_rangeinlist(list1, 40, 100))\n",
        "list2 = ['a','b','c','d','e','f']\n",
        "print(count_rangeinlist(list2, 'a', 'e'))"
      ],
      "metadata": {
        "id": "DAnLmn_RPySc",
        "colab": {
          "base_uri": "https://localhost:8080/"
        },
        "outputId": "9bba4283-b23f-4b8c-e94f-43f92aba888a"
      },
      "execution_count": 30,
      "outputs": [
        {
          "output_type": "stream",
          "name": "stdout",
          "text": [
            "8\n",
            "6\n",
            "5\n"
          ]
        }
      ]
    },
    {
      "cell_type": "markdown",
      "source": [
        "5B. Write a Python program to split a list into different variables."
      ],
      "metadata": {
        "id": "3bOmmaEbK2E8"
      }
    },
    {
      "cell_type": "code",
      "source": [
        "def split_to_vars(colours):\n",
        "\n",
        "  var1, var2, var3 = colours\n",
        "  print(var1)\n",
        "  print(var2)\n",
        "  print(var3)\n",
        "\n",
        "colours = [(\"Black\", \"#000000\", \"rgb(0, 0, 0)\"), (\"Red\", \"#FF0000\", \"rgb(255, 0, 0)\"),\n",
        "         (\"Yellow\", \"#FFFF00\", \"rgb(255, 255, 0)\")]\n",
        "split_to_vars(colours)"
      ],
      "metadata": {
        "id": "lBYfMtFnRBsz",
        "colab": {
          "base_uri": "https://localhost:8080/"
        },
        "outputId": "eace733a-6d02-4afb-843f-bc50298992cd"
      },
      "execution_count": 32,
      "outputs": [
        {
          "output_type": "stream",
          "name": "stdout",
          "text": [
            "('Black', '#000000', 'rgb(0, 0, 0)')\n",
            "('Red', '#FF0000', 'rgb(255, 0, 0)')\n",
            "('Yellow', '#FFFF00', 'rgb(255, 255, 0)')\n"
          ]
        }
      ]
    },
    {
      "cell_type": "markdown",
      "source": [
        "6A. Merge the following dictionaries into one"
      ],
      "metadata": {
        "id": "hH16U6KcRARD"
      }
    },
    {
      "cell_type": "code",
      "source": [
        "dict1 = {'Ten': 10, 'Twenty': 20, 'Thirty': 30}\n",
        "dict2 = {'Thirty': 30, 'Fourty': 40, 'Fifty': 50}\n",
        "d3 = dict(dict1, **dict2)    \n",
        "\n",
        "print(\"after Merge \", d3) "
      ],
      "metadata": {
        "id": "z_ce9ZOHRAYr",
        "colab": {
          "base_uri": "https://localhost:8080/"
        },
        "outputId": "ec1b8d3c-e902-48b2-957d-62b9e8c1865b"
      },
      "execution_count": 36,
      "outputs": [
        {
          "output_type": "stream",
          "name": "stdout",
          "text": [
            "after Merge  {'Ten': 10, 'Twenty': 20, 'Thirty': 30, 'Fourty': 40, 'Fifty': 50}\n"
          ]
        }
      ]
    },
    {
      "cell_type": "markdown",
      "source": [
        "6B. Delete the set of keys from the following python dictionary"
      ],
      "metadata": {
        "id": "UOCvJRpvRAfq"
      }
    },
    {
      "cell_type": "code",
      "source": [
        "sampleDict = {\n",
        " \"name\": \"Kelly\",\n",
        " \"age\":25,\n",
        " \"salary\": 8000,\n",
        " \"city\": \"New york\"\n",
        "}\n",
        "\n",
        "\n",
        "keysToRemove = [\"name\", \"salary\"]\n",
        "for i in keysToRemove:\n",
        "  sampleDict.pop(i)\n",
        "print(sampleDict)"
      ],
      "metadata": {
        "id": "xJk1rTxKRAmV",
        "colab": {
          "base_uri": "https://localhost:8080/"
        },
        "outputId": "f43bcf56-58e5-4a77-dfe5-dfa3f8007cf5"
      },
      "execution_count": 37,
      "outputs": [
        {
          "output_type": "stream",
          "name": "stdout",
          "text": [
            "{'age': 25, 'city': 'New york'}\n"
          ]
        }
      ]
    }
  ]
}