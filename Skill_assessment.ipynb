{
  "nbformat": 4,
  "nbformat_minor": 0,
  "metadata": {
    "colab": {
      "name": "Skill assessment.ipynb",
      "provenance": [],
      "collapsed_sections": [],
      "include_colab_link": true
    },
    "kernelspec": {
      "name": "python3",
      "display_name": "Python 3"
    },
    "language_info": {
      "name": "python"
    }
  },
  "cells": [
    {
      "cell_type": "markdown",
      "metadata": {
        "id": "view-in-github",
        "colab_type": "text"
      },
      "source": [
        "<a href=\"https://colab.research.google.com/github/sysphcd/pythonfundamentals/blob/main/Skill_assessment.ipynb\" target=\"_parent\"><img src=\"https://colab.research.google.com/assets/colab-badge.svg\" alt=\"Open In Colab\"/></a>"
      ]
    },
    {
      "cell_type": "markdown",
      "metadata": {
        "id": "-vVXrDTXbDzp"
      },
      "source": [
        "### Exercise 1 - printing\n",
        "---\n",
        "Print \"hello world\"\n",
        "\n",
        "**Expected Output**  \n",
        "hello world "
      ]
    },
    {
      "cell_type": "code",
      "metadata": {
        "id": "Z_Jc0SncbEkM",
        "outputId": "ca41cb42-1389-484f-8dbf-896d2bc95278",
        "colab": {
          "base_uri": "https://localhost:8080/"
        }
      },
      "source": [
        "print(\"hello world\")\n"
      ],
      "execution_count": null,
      "outputs": [
        {
          "output_type": "stream",
          "name": "stdout",
          "text": [
            "hello world\n"
          ]
        }
      ]
    },
    {
      "cell_type": "markdown",
      "metadata": {
        "id": "n-u42LuZbPc2"
      },
      "source": [
        "### Exercise 2 - using input\n",
        "---\n",
        "Create an input that asks for the user's name and stores it in a variable called name and `print` it \n",
        "\n",
        "**Test Input**  \n",
        "Marianne \n",
        "\n",
        "**Expected Output**  \n",
        "Marianne "
      ]
    },
    {
      "cell_type": "code",
      "metadata": {
        "id": "02KvhKPdbZW-",
        "outputId": "30ba9b6a-a82c-4a36-e4ce-030230028ec1",
        "colab": {
          "base_uri": "https://localhost:8080/"
        }
      },
      "source": [
        "name = \"\"\n",
        "input(name)\n",
        "print(name)"
      ],
      "execution_count": null,
      "outputs": [
        {
          "output_type": "stream",
          "name": "stdout",
          "text": [
            "Marianne\n",
            "\n"
          ]
        }
      ]
    },
    {
      "cell_type": "markdown",
      "metadata": {
        "id": "oXpvEknHbZvz"
      },
      "source": [
        "### Exercise 3 - operators and datatypes\n",
        "---\n",
        "\n",
        "Create 2 variables called **num1** and **num2** which each store an input function which asks for a whole number and stores it as an integer\n",
        "\n",
        "Create a third variable called **num3** which sums **num1** and **num2** together\n",
        "\n",
        "**Test Input**  \n",
        "11  \n",
        "22  \n",
        "\n",
        "**Expected Output**  \n",
        "33\n"
      ]
    },
    {
      "cell_type": "code",
      "metadata": {
        "id": "WVnfbWjdcJPD",
        "outputId": "970bda64-5e96-4de8-881b-eb25dab7db87",
        "colab": {
          "base_uri": "https://localhost:8080/"
        }
      },
      "source": [
        "num1 = input(\"num1\")\n",
        "num2 = input(\"num2\")\n",
        "num3 = int(num1) + int(num2)\n",
        "print(num3)"
      ],
      "execution_count": null,
      "outputs": [
        {
          "output_type": "stream",
          "name": "stdout",
          "text": [
            "num111\n",
            "num222\n",
            "33\n"
          ]
        }
      ]
    },
    {
      "cell_type": "markdown",
      "metadata": {
        "id": "EDPftM6dcJzK"
      },
      "source": [
        "### Exercise 4 - using if/else\n",
        "---\n",
        "\n",
        "Use `if` to sum two inputed integers. However, if the sum is between 15 to 20 it will print 20, else return the correct sum\n",
        "\n",
        "**Test Input**  \n",
        "3  \n",
        "15  \n",
        "\n",
        "**Expected Output**  \n",
        "20"
      ]
    },
    {
      "cell_type": "code",
      "metadata": {
        "id": "JPXearXfdPZS",
        "outputId": "a31d8189-5e30-4071-a286-8d45c70bbae6",
        "colab": {
          "base_uri": "https://localhost:8080/"
        }
      },
      "source": [
        "num1 = input(\"num1:\")\n",
        "num2 = input(\"num2:\")\n",
        "num3 = int(num1) + int(num2)\n",
        "if num3 >15 and num3 <20 :\n",
        "  print(\"20\")"
      ],
      "execution_count": null,
      "outputs": [
        {
          "output_type": "stream",
          "name": "stdout",
          "text": [
            "num1:3\n",
            "num2:15\n",
            "20\n"
          ]
        }
      ]
    },
    {
      "cell_type": "markdown",
      "metadata": {
        "id": "c7hKrWgIdPrr"
      },
      "source": [
        "### Exercise 5 - using for loops\n",
        "---\n",
        "`Print` each letter of the string \"supercalifragilistic\" using a `for` loop\n",
        "\n",
        "**Expected Output**   \n",
        "s  \n",
        "u  \n",
        "p  \n",
        "e  \n",
        "r  \n",
        "c  \n",
        "a  \n",
        "l  \n",
        "i  \n",
        "f  \n",
        "r  \n",
        "a  \n",
        "g  \n",
        "i  \n",
        "l  \n",
        "i  \n",
        "s  \n",
        "t  \n",
        "i  \n",
        "c  "
      ]
    },
    {
      "cell_type": "code",
      "metadata": {
        "id": "bxE5C2jYdg2w",
        "outputId": "6c4235d9-d32b-48e6-cd76-ff14283e1998",
        "colab": {
          "base_uri": "https://localhost:8080/"
        }
      },
      "source": [
        "for x in \"supercalifragilistic\" :\n",
        "  print(x)"
      ],
      "execution_count": null,
      "outputs": [
        {
          "output_type": "stream",
          "name": "stdout",
          "text": [
            "s\n",
            "u\n",
            "p\n",
            "e\n",
            "r\n",
            "c\n",
            "a\n",
            "l\n",
            "i\n",
            "f\n",
            "r\n",
            "a\n",
            "g\n",
            "i\n",
            "l\n",
            "i\n",
            "s\n",
            "t\n",
            "i\n",
            "c\n"
          ]
        }
      ]
    },
    {
      "cell_type": "markdown",
      "metadata": {
        "id": "Bf_wev6UdhPH"
      },
      "source": [
        "### Exercise 6 - using while loops\n",
        "---\n",
        "Write a program that asks the user to enter a positive number.\n",
        "`if` the number entered is not positive (ie it is less than 0) the user will be shown an error message and asked to enter the number again. `if` a positive number is entered, the program should print \"Thankyou, goodbye\"\n",
        "\n",
        "**Test Input**   \n",
        "-1   \n",
        "4 \n",
        "\n",
        "\n",
        "**Expected Output**  \n",
        "Error   \n",
        "Thankyou, goodbye"
      ]
    },
    {
      "cell_type": "code",
      "metadata": {
        "id": "muSpMY4vdtfD",
        "outputId": "3845912a-61e8-4598-f69d-21e51e622362",
        "colab": {
          "base_uri": "https://localhost:8080/"
        }
      },
      "source": [
        "num1 = int(input(\"number1 :\"))\n",
        "while num1<0 :\n",
        "  if num1 < 0:\n",
        "    print(\"Error\")\n",
        "    num1 = int(input(\"number1 :\"))\n",
        "\n",
        "    \n",
        "print(\"Thankyou,goodbye\")"
      ],
      "execution_count": null,
      "outputs": [
        {
          "output_type": "stream",
          "name": "stdout",
          "text": [
            "number1 :-1\n",
            "Error\n",
            "number1 :4\n",
            "Thankyou,goodbye\n"
          ]
        }
      ]
    },
    {
      "cell_type": "markdown",
      "metadata": {
        "id": "Q-drRJ2kdt4g"
      },
      "source": [
        "### Exercise 7 - lists \n",
        "---\n",
        "The `sorted()` function will sort a list.\n",
        "Create a list of 5 numbers and use the sorted function to sort them, storing the sorted list in a variabled called **sorted_list**\n",
        "\n",
        "**Test Input**  \n",
        "[1, 87, -1, 8, 21]\n",
        "\n",
        "**Expected Output**  \n",
        "[-1, 1, 8, 21, 87]"
      ]
    },
    {
      "cell_type": "code",
      "metadata": {
        "id": "W4MxMJ1ieGqe",
        "colab": {
          "base_uri": "https://localhost:8080/"
        },
        "outputId": "b2242796-d221-4d37-dea6-9d71ecf460a5"
      },
      "source": [
        "def sorted() :\n",
        "    nums = [1, 87, -1, 8, 21]\n",
        "    nums.sort()\n",
        "    sorted_list = nums\n",
        "    print(sorted_list)\n",
        "\n",
        "\n",
        "sorted()"
      ],
      "execution_count": null,
      "outputs": [
        {
          "output_type": "stream",
          "name": "stdout",
          "text": [
            "[-1, 1, 8, 21, 87]\n"
          ]
        }
      ]
    },
    {
      "cell_type": "markdown",
      "metadata": {
        "id": "ZL0wbkQPeG6j"
      },
      "source": [
        "### Exercise 8 - dictionaries \n",
        "---\n",
        "Add an empty dictionary for a person (name, age and postcode). Read a person's details using the `input()` function and store them in your dictionary. \n",
        "\n",
        "Make sure that the entered age is a number. \n",
        "\n",
        "Print the dictionary.  \n",
        "\n",
        "**Test Input**  \n",
        "Dave  \n",
        "24  \n",
        "SE11AB  \n",
        "\n",
        "**Expected Output**  \n",
        "{'name': 'Dave', 'age': 24, 'postcode': 'SE11AB'}"
      ]
    },
    {
      "cell_type": "code",
      "metadata": {
        "id": "jZc7zRAkeglf",
        "colab": {
          "base_uri": "https://localhost:8080/"
        },
        "outputId": "88f99df9-eb22-4a22-cd5d-8d07cd2977fe"
      },
      "source": [
        "aperson = {}\n",
        "thename = input(\"the name:\")\n",
        "theage= int(input(\"the age:\"))\n",
        "thepostcode= input(\"the postcode:\")\n",
        "aperson[\"name\"]= thename\n",
        "aperson[\"age\"] = theage\n",
        "aperson[\"postcode\"]=thepostcode\n",
        "print(aperson)\n"
      ],
      "execution_count": null,
      "outputs": [
        {
          "output_type": "stream",
          "name": "stdout",
          "text": [
            "the name:Dave\n",
            "the age:24\n",
            "the postcode:SE11AB\n",
            "{'name': 'Dave', 'age': 24, 'postcode': 'SE11AB'}\n"
          ]
        }
      ]
    },
    {
      "cell_type": "markdown",
      "metadata": {
        "id": "lpT0N5HqehHK"
      },
      "source": [
        "### Exercise 9 - functions, lists and loops\n",
        "---\n",
        "Write a function to create and `print` a list where the values are square of numbers between 1 and 30 (both included).\n",
        "\n",
        "**Expected Output**  \n",
        "[0, 1, 4, 9, 16, 25, 36, 49, 64, 81, 100, 121, 144, 169, 196, 225, 256, 289, 324, 361, 400, 441, 484, 529, 576, 625, 676, 729, 784, 841, 900]\n"
      ]
    },
    {
      "cell_type": "code",
      "metadata": {
        "id": "_h6r0hAce7ro",
        "colab": {
          "base_uri": "https://localhost:8080/"
        },
        "outputId": "24924be1-27cb-478b-e132-dd1c65955a5b"
      },
      "source": [
        "def print_squarenumbs():\n",
        "  thelist = []\n",
        "  for i in range(0,30):\n",
        "    thelist.append(i*i)\n",
        "  print(thelist)  \n",
        "print_squarenumbs()"
      ],
      "execution_count": null,
      "outputs": [
        {
          "output_type": "stream",
          "name": "stdout",
          "text": [
            "[0, 1, 4, 9, 16, 25, 36, 49, 64, 81, 100, 121, 144, 169, 196, 225, 256, 289, 324, 361, 400, 441, 484, 529, 576, 625, 676, 729, 784, 841]\n"
          ]
        }
      ]
    },
    {
      "cell_type": "markdown",
      "metadata": {
        "id": "GPoXDPh2e8LB"
      },
      "source": [
        "### Exercise 10 - functions\n",
        "---\n",
        "Create a function called **show_mood** that takes in a current mood as a parameter of the function and `return` a sentence in the following format: \"Today, I am feeling {mood}\". However, `if` an empty string is passed, `return` \"Today, I am feeling neutral\".\n",
        "\n",
        "**Test input**  \n",
        "show_mood(\"happy\")    \n",
        "show_mood(\"sad\")  \n",
        "show_mood(\"\")   \n",
        "\n",
        "**Expected output**  \n",
        "\"Today, I am feeling happy\"  \n",
        "\"Today, I am feeling sad\"  \n",
        "\"Today, I am feeling neutral\"   \n",
        "\n"
      ]
    },
    {
      "cell_type": "code",
      "metadata": {
        "id": "SvF1CessfoqC",
        "outputId": "6358994d-89c4-4deb-edf4-ad0927a4a22f",
        "colab": {
          "base_uri": "https://localhost:8080/"
        }
      },
      "source": [
        "def show_mood(mood):\n",
        "  thesentence = \"Today,I am feeling \"\n",
        "  if mood == \"\":\n",
        "     return \"Today, I am feeling neutral\"\n",
        "  else :\n",
        "    thesentence += mood\n",
        "  return thesentence   \n",
        "\n",
        "print(show_mood(\"happy\"))\n",
        "print(show_mood(\"sad\"))\n",
        "print(show_mood(\"\"))"
      ],
      "execution_count": null,
      "outputs": [
        {
          "output_type": "stream",
          "name": "stdout",
          "text": [
            "Today,I am feeling happy\n",
            "Today,I am feeling sad\n",
            "Today, I am feeling neutral\n"
          ]
        }
      ]
    },
    {
      "cell_type": "markdown",
      "metadata": {
        "id": "9U9rREgKumh1"
      },
      "source": [
        "### OPTIONAL Challenge\n",
        "---\n",
        "Create a function called **show_mood** that takes in a current mood as a parameter of the function and `return` a sentence in the following format: \"Today, I am feeling {mood}\". **However, if *no argument* is passed, it will assume that the mood is neutral**.\n",
        "\n",
        "**Test input**  \n",
        "show_mood(\"happy\")    \n",
        "show_mood(\"sad\")  \n",
        "show_mood()   \n",
        "\n",
        "**Expected output**  \n",
        "\"Today, I am feeling happy\"  \n",
        "\"Today, I am feeling sad\"  \n",
        "\"Today, I am feeling neutral\"   "
      ]
    },
    {
      "cell_type": "code",
      "metadata": {
        "id": "B2fYBD0Ouw2E",
        "colab": {
          "base_uri": "https://localhost:8080/"
        },
        "outputId": "2da9288e-d3e7-47e9-9f67-3e61cdc582b7"
      },
      "source": [
        "def show_mood(mood):\n",
        "  thesentence = \"Today,I am feeling \"\n",
        "  if mood == \"\":\n",
        "     return \"Today, I am feeling neutral\"\n",
        "  else :\n",
        "    thesentence += mood\n",
        "  return thesentence   \n",
        "\n",
        "print(show_mood(\"happy\"))\n",
        "print(show_mood(\"sad\"))\n",
        "print(show_mood(\"\"))"
      ],
      "execution_count": null,
      "outputs": [
        {
          "output_type": "stream",
          "name": "stdout",
          "text": [
            "Today,I am feeling happy\n",
            "Today,I am feeling sad\n",
            "Today, I am feeling neutral\n"
          ]
        }
      ]
    }
  ]
}