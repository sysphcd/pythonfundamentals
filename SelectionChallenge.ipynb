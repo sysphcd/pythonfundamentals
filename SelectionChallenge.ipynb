{
  "nbformat": 4,
  "nbformat_minor": 0,
  "metadata": {
    "colab": {
      "name": "SelectionChallenge.ipynb",
      "provenance": [],
      "collapsed_sections": [],
      "include_colab_link": true
    },
    "kernelspec": {
      "name": "python3",
      "display_name": "Python 3"
    }
  },
  "cells": [
    {
      "cell_type": "markdown",
      "metadata": {
        "id": "view-in-github",
        "colab_type": "text"
      },
      "source": [
        "<a href=\"https://colab.research.google.com/github/sysphcd/pythonfundamentals/blob/main/SelectionChallenge.ipynb\" target=\"_parent\"><img src=\"https://colab.research.google.com/assets/colab-badge.svg\" alt=\"Open In Colab\"/></a>"
      ]
    },
    {
      "cell_type": "markdown",
      "metadata": {
        "id": "-QxAKPD8DZfj"
      },
      "source": [
        "# Three selection challenges\n",
        "\n",
        "---\n"
      ]
    },
    {
      "cell_type": "markdown",
      "metadata": {
        "id": "2KYUALILDcM9"
      },
      "source": [
        "### Challenge 1 - password format  \n",
        "\n",
        "Write a function called **check_password_valid()** which will check the validity of a **password** input by a user.\n",
        "\n",
        "Rules for a valid password are:  \n",
        "\n",
        "*  At least 1 letter between [a-z] and 1 letter between [A-Z].\n",
        "*  At least 1 number between [0-9].\n",
        "*  At least 1 character from [$#@].\n",
        "*  Minimum length 6 characters.\n",
        "*  Maximum length 16 characters.  \n",
        "\n",
        "Let the user know if the `password` they have typed is valid and, if not, where was the first error.\n",
        "\n",
        "*Hint:  to test if a set of characters is present in a password String, you can use re.search('[character set]', `password`)*  \n",
        "\n",
        "Example:   \n",
        "*if re.search('[a-z]',`password`):*    \n",
        "this will be True if there is at least 1 character a-z in the password.\n",
        "\n",
        "**re** is a pre-written Python function for pattern searching in Strings.  It has been imported for you in the code cell below.  "
      ]
    },
    {
      "cell_type": "code",
      "metadata": {
        "id": "8wBK9IA4BO2e",
        "colab": {
          "base_uri": "https://localhost:8080/"
        },
        "outputId": "3de7f0b1-bcaa-4014-95cd-6f1e1117f44a"
      },
      "source": [
        "import re\n",
        "\n",
        "# add your check_PasswordValid() function and call below here\n",
        "def check_password_valid():\n",
        "  password = input(\"input a password :\")\n",
        "  if not re.search('[a-z]',password):\n",
        "    print(\"At least 1 letter between [a-z]\")\n",
        "  elif not re.search('[A-Z]',password):\n",
        "    print(\"At least 1 letter between [A-Z]\")\n",
        "  elif not re.search('[0-9]',password):\n",
        "    print(\"At least 1 number between [0-9]\")\n",
        "  elif not re.search('[$#@]',password):\n",
        "    print(\"At least 1 character from [$#@]\")\n",
        "  elif len(password)<6 :\n",
        "    print(\"Minimum length 6 characters.\")\n",
        "  elif len(password)>16:\n",
        "    print(\"Maximum length 16 characters.\")  \n",
        "  else:\n",
        "    print(\"Your password is valid.\")\n",
        "check_password_valid()\n",
        "check_password_valid()\n",
        "check_password_valid()\n",
        "check_password_valid()\n"
      ],
      "execution_count": null,
      "outputs": [
        {
          "output_type": "stream",
          "name": "stdout",
          "text": [
            "input a password :Atest\n",
            "At least 1 number between [0-9]\n",
            "input a password :Atest5$\n",
            "Your password is valid.\n",
            "input a password :Atest5$password\n",
            "Your password is valid.\n",
            "input a password :Atest5$invalidpassword\n",
            "Maximum length 16 characters.\n"
          ]
        }
      ]
    },
    {
      "cell_type": "markdown",
      "metadata": {
        "id": "f0R4GYTEFQS-"
      },
      "source": [
        "---\n",
        "### Challenge 2 - triangle shape  \n",
        "\n",
        "Write a function called **evaluate_triangle_shape()** which will check if a triangle is equilateral, isosceles or scalene, based on the three side lengths entered by a user (**x**, **y** and **z**.\n",
        "\n",
        "An equilateral triangle is a triangle in which all three sides are equal.\n",
        "A scalene triangle is a triangle that has three unequal sides.\n",
        "An isosceles triangle is a triangle with (at least) two equal sides.\n",
        "\n",
        "For example:  \n",
        "A triange with side lengths                                 \n",
        "x: 6                                                                    \n",
        "y: 8                                                                    \n",
        "z: 12                                                                   \n",
        "is a *Scalene triangle*\n",
        "\n",
        "A triangle with side lengths\n",
        "x:5  \n",
        "y:3   \n",
        "z:5  \n",
        "is an *Isosceles triangle*"
      ]
    },
    {
      "cell_type": "code",
      "metadata": {
        "id": "oBgl4ro1DVL0",
        "colab": {
          "base_uri": "https://localhost:8080/"
        },
        "outputId": "97d53a60-b010-4b53-b07e-ace70d83cf3f"
      },
      "source": [
        "def evaluate_triangle_shape():\n",
        "  x = int(input(\"A triange with side length of x :\"))\n",
        "  y = int(input(\"length of y :\"))\n",
        "  z = int(input(\"length of z :\"))\n",
        "  #print(\"A triange with side lengths\")\n",
        "  #print(\"x:\",x)\n",
        "  #print(\"y:\",y)\n",
        "  #print(\"z:\",z)\n",
        "  if x==y and y==z and x==z :\n",
        "    print(\"is an equilateral triangle.\")\n",
        "  elif (x==y or y==z or x==z) :\n",
        "    print(\"is an Isosceles triangle.\")\n",
        "  elif x!=y and y!=z and x!=z:\n",
        "    print(\"is a Scalene triangle.\")\n",
        "evaluate_triangle_shape()\n",
        "evaluate_triangle_shape()"
      ],
      "execution_count": 22,
      "outputs": [
        {
          "output_type": "stream",
          "name": "stdout",
          "text": [
            "A triange with side length of x :6\n",
            "length of y :8\n",
            "length of z :12\n",
            "is a Scalene triangle.\n",
            "A triange with side length of x :5\n",
            "length of y :3\n",
            "length of z :5\n",
            "is an Isosceles triangle.\n"
          ]
        }
      ]
    },
    {
      "cell_type": "markdown",
      "metadata": {
        "id": "hr2EotkqG33l"
      },
      "source": [
        "---\n",
        "### Challenge 3 - which season\n",
        "\n",
        "Write a function called **determine_season()** which will ask the user to enter two integers representing a **month** and **day** and prints the season for that month and day.\n",
        "\n",
        "Note:  for this exercise the season dates are:\n",
        "*  Winter December 21 to March 20    \n",
        "*  Spring March 21 to June 20  \n",
        "*  Summer June 21 to September 20  \n",
        "*  Autumn September 21 to December 20\n",
        "\n",
        "Test input:  \n",
        "Input the month (e.g. January, February etc.): 7                     \n",
        "Input the day: 31                                                       \n",
        "\n",
        "Expected output:  \n",
        "Season is summer \n",
        "\n",
        "*Note: this will require multiple and or or operators and you should use brackets to help Python know which operations to do first*  \n",
        "\n",
        "*For an extra challenge you can check that the day is valid for the month*"
      ]
    },
    {
      "cell_type": "code",
      "metadata": {
        "id": "cvbfz8nzG4IL",
        "colab": {
          "base_uri": "https://localhost:8080/"
        },
        "outputId": "7204791e-d0c3-49ee-8341-621ddddf4546"
      },
      "source": [
        "def determine_season():\n",
        "  month=int(input(\"Input the month (e.g. January, February etc.): \"))\n",
        "  day=int(input(\"Input the day: \"))\n",
        "  if (month<=3 or month==12) and (day<=20 or day>=21):\n",
        "    print(\"Season is winter\")\n",
        "  elif (month>=3 and month<=6) and (day<=20 or day>=21):\n",
        "    print(\"Season is spring\")\n",
        "  elif (month>=6 and month<=9) and (day<=20 or day>=21):\n",
        "    print(\"Season is summer\")\n",
        "  elif (month>=9 and month<=12) and (day<=20 or day>=21):\n",
        "    print(\"Season is autumn\")    \n",
        "  else :    \n",
        "    print(\"wrong\")\n",
        "determine_season()\n",
        "determine_season()\n"
      ],
      "execution_count": null,
      "outputs": [
        {
          "output_type": "stream",
          "name": "stdout",
          "text": [
            "Input the month (e.g. January, February etc.): 7\n",
            "Input the day: 31\n",
            "Season is summer\n",
            "Input the month (e.g. January, February etc.): 1\n",
            "Input the day: 18\n",
            "Season is winter\n"
          ]
        }
      ]
    }
  ]
}